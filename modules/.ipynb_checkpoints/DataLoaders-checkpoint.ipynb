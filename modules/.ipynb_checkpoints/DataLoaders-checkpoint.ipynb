{
 "cells": [
  {
   "cell_type": "code",
   "execution_count": 1,
   "metadata": {},
   "outputs": [],
   "source": [
    "import torch\n",
    "from torchvision import transforms, datasets\n",
    "\n",
    "def defineDataTransform(flag, transform = None):\n",
    "    \"\"\"\n",
    "    Defines a series of transformations to apply to all images in the dataset.\n",
    "    \n",
    "    Keyword Arguments:\n",
    "    flag: a string which is either \"train\" or \"test.\" Applies transforms based on input.\n",
    "    transforms: an array of sequential transform operations. If not supplied, default transforms for\n",
    "    train and test will be used.\n",
    "    \n",
    "    Returns a pipeline defined by transforms.Compose(transforms).\n",
    "    \"\"\"\n",
    "    \n",
    "    if transform is not None:\n",
    "        return transforms.Compose(transform)\n",
    "    \n",
    "    if flag == \"train\":\n",
    "        return transforms.Compose([transforms.RandomRotation(30), \n",
    "                                   transforms.RandomResizedCrop(224), \n",
    "                                   transforms.RandomHorizontalFlip(),\n",
    "                                   transforms.ToTensor()])\n",
    "    elif flag == \"test\":\n",
    "        return transforms.Compose([transforms.RandomRotation(30), \n",
    "                                   transforms.RandomResizedCrop(224), \n",
    "                                   transforms.ToTensor()])\n",
    "    else:\n",
    "        raise Exception(\"Unknown flag input. Can only be train or test.\")\n",
    "    \n",
    "\n",
    "def createDataLoader(path, transform, batch_size):\n",
    "    \"\"\"\n",
    "    Creates a dataloader for the train, validation, or test data.\n",
    "    \n",
    "    Keyword Arguments:\n",
    "    path: string representing the path from current directory to root folder of data.\n",
    "    transform: a transforms.Compose() to apply to all data in the loader.\n",
    "    batch_size: an int representing the batch size for the machine learning model.\n",
    "    \"\"\"\n",
    "    \n",
    "    data = datasets.ImageFolder(path, transform = transform)\n",
    "    \n",
    "    return torch.utils.data.DataLoader(data, batch_size = batch_size)"
   ]
  }
 ],
 "metadata": {
  "kernelspec": {
   "display_name": "Python 3",
   "language": "python",
   "name": "python3"
  },
  "language_info": {
   "codemirror_mode": {
    "name": "ipython",
    "version": 3
   },
   "file_extension": ".py",
   "mimetype": "text/x-python",
   "name": "python",
   "nbconvert_exporter": "python",
   "pygments_lexer": "ipython3",
   "version": "3.7.6"
  }
 },
 "nbformat": 4,
 "nbformat_minor": 4
}
