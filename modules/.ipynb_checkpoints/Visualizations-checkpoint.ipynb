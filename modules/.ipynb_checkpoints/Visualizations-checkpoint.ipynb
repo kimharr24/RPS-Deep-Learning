{
 "cells": [
  {
   "cell_type": "code",
   "execution_count": 1,
   "metadata": {},
   "outputs": [],
   "source": [
    "import numpy as np\n",
    "import matplotlib.pyplot as plt\n",
    "\n",
    "def showNumpyAsImg(array):\n",
    "    \"\"\"\n",
    "    Visualizes a single channel numpy array as a matplotlib plot.\n",
    "    \n",
    "    Keyword Arguments:\n",
    "    array: A 2D numpy array representing an image.\n",
    "    \n",
    "    Returns None\n",
    "    \"\"\"\n",
    "    array = np.transpose(array, (1,2,0)) # Converting 3 x 224 x 224 img to 224 x 224 x 3 img\n",
    "    \n",
    "    figure = plt.figure\n",
    "    plt.imshow(array)\n",
    "    plt.show()"
   ]
  }
 ],
 "metadata": {
  "kernelspec": {
   "display_name": "Python 3",
   "language": "python",
   "name": "python3"
  },
  "language_info": {
   "codemirror_mode": {
    "name": "ipython",
    "version": 3
   },
   "file_extension": ".py",
   "mimetype": "text/x-python",
   "name": "python",
   "nbconvert_exporter": "python",
   "pygments_lexer": "ipython3",
   "version": "3.7.6"
  }
 },
 "nbformat": 4,
 "nbformat_minor": 4
}
