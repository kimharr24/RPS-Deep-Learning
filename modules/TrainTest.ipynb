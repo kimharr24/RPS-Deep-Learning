{
 "cells": [
  {
   "cell_type": "code",
   "execution_count": 1,
   "metadata": {},
   "outputs": [],
   "source": [
    "import torch.nn as nn\n",
    "\n",
    "def trainNetwork(model, dataloader, n_epochs, optimizer, criterion = nn.CrossEntropyLoss()):\n",
    "    \"\"\"\n",
    "    Runs a training loop on the provided model.\n",
    "    \n",
    "    Keyword Arguments:\n",
    "    model: an instance of the user-defined neural network.\n",
    "    dataloader: PyTorch DataLoader to iterate through batches.\n",
    "    n_epochs: number of epochs to run the training loop.\n",
    "    optimizer: optimizer used for gradient descent.\n",
    "    criterion: loss function used to compute gradients.\n",
    "    \"\"\"\n",
    "    \n",
    "    for epoch in range(n_epochs):\n",
    "        total_loss = 0\n",
    "        for batch in dataloader:\n",
    "            features, labels = batch\n",
    "            \n",
    "            optimizer.zero_grad()\n",
    "            preds = model(features.float())\n",
    "            loss = criterion(preds, labels)\n",
    "            loss.backward()\n",
    "            \n",
    "            optimizer.step()\n",
    "            total_loss += loss.item()\n",
    "            \n",
    "        print(f'Epoch {epoch + 1}, Loss: {total_loss}, Final Batch Loss: {loss.item()}')"
   ]
  }
 ],
 "metadata": {
  "kernelspec": {
   "display_name": "Python 3",
   "language": "python",
   "name": "python3"
  },
  "language_info": {
   "codemirror_mode": {
    "name": "ipython",
    "version": 3
   },
   "file_extension": ".py",
   "mimetype": "text/x-python",
   "name": "python",
   "nbconvert_exporter": "python",
   "pygments_lexer": "ipython3",
   "version": "3.7.6"
  }
 },
 "nbformat": 4,
 "nbformat_minor": 4
}
